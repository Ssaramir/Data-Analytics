{
 "cells": [
  {
   "cell_type": "markdown",
   "metadata": {},
   "source": [
    "### Imports"
   ]
  },
  {
   "cell_type": "code",
   "execution_count": 1,
   "metadata": {},
   "outputs": [],
   "source": [
    "import pandas as pd"
   ]
  },
  {
   "cell_type": "code",
   "execution_count": 2,
   "metadata": {},
   "outputs": [],
   "source": [
    "df = pd.read_csv(\"/Users/sara/Sara_data/github_repos/Data-Analytics/Student_Data_Audit/data/student_admission_record_dirty.csv\")"
   ]
  },
  {
   "cell_type": "code",
   "execution_count": 21,
   "metadata": {},
   "outputs": [
    {
     "name": "stdout",
     "output_type": "stream",
     "text": [
      "First few rows:\n",
      "      Name   Age  Gender  Admission Test Score  High School Percentage  \\\n",
      "0  Shehroz  24.0  Female                  50.0                   68.90   \n",
      "1    Waqar  21.0  Female                  99.0                   60.73   \n",
      "2   Bushra  17.0    Male                  89.0                     NaN   \n",
      "3    Aliya  17.0    Male                  55.0                   85.29   \n",
      "4    Bilal  20.0    Male                  65.0                   61.13   \n",
      "\n",
      "        City Admission Status  \n",
      "0     Quetta         Rejected  \n",
      "1    Karachi              NaN  \n",
      "2  Islamabad         Accepted  \n",
      "3    Karachi         Rejected  \n",
      "4     Lahore              NaN  \n",
      "--------------------------------------------------------------\n",
      "\n",
      "Summary\n",
      "<class 'pandas.core.frame.DataFrame'>\n",
      "RangeIndex: 157 entries, 0 to 156\n",
      "Data columns (total 7 columns):\n",
      " #   Column                  Non-Null Count  Dtype  \n",
      "---  ------                  --------------  -----  \n",
      " 0   Name                    147 non-null    object \n",
      " 1   Age                     147 non-null    float64\n",
      " 2   Gender                  147 non-null    object \n",
      " 3   Admission Test Score    146 non-null    float64\n",
      " 4   High School Percentage  146 non-null    float64\n",
      " 5   City                    147 non-null    object \n",
      " 6   Admission Status        147 non-null    object \n",
      "dtypes: float64(3), object(4)\n",
      "memory usage: 8.7+ KB\n",
      "None\n",
      "--------------------------------------------------------------\n",
      "\n",
      "Summary\n",
      "           Name         Age  Gender  Admission Test Score  \\\n",
      "count       147  147.000000     147            146.000000   \n",
      "unique       64         NaN       2                   NaN   \n",
      "top     Shehroz         NaN  Female                   NaN   \n",
      "freq          6         NaN      83                   NaN   \n",
      "mean        NaN   19.680272     NaN             77.657534   \n",
      "std         NaN    4.540512     NaN             16.855343   \n",
      "min         NaN   -1.000000     NaN             -5.000000   \n",
      "25%         NaN   18.000000     NaN             68.250000   \n",
      "50%         NaN   20.000000     NaN             79.000000   \n",
      "75%         NaN   22.000000     NaN             89.000000   \n",
      "max         NaN   24.000000     NaN            150.000000   \n",
      "\n",
      "        High School Percentage    City Admission Status  \n",
      "count               146.000000     147              147  \n",
      "unique                     NaN       7                2  \n",
      "top                        NaN  Quetta         Rejected  \n",
      "freq                       NaN      30               76  \n",
      "mean                 75.684726     NaN              NaN  \n",
      "std                  17.368014     NaN              NaN  \n",
      "min                 -10.000000     NaN              NaN  \n",
      "25%                  65.052500     NaN              NaN  \n",
      "50%                  77.545000     NaN              NaN  \n",
      "75%                  88.312500     NaN              NaN  \n",
      "max                 110.500000     NaN              NaN  \n"
     ]
    }
   ],
   "source": [
    "print(\"First few rows:\")\n",
    "print(df.head())\n",
    "print(\"--------------------------------------------------------------\")\n",
    "print(\"\\nSummary\")\n",
    "print(df.info())\n",
    "print(\"--------------------------------------------------------------\")\n",
    "print(\"\\nSummary\")\n",
    "print(df.describe(include=\"all\"))\n"
   ]
  },
  {
   "cell_type": "code",
   "execution_count": 22,
   "metadata": {},
   "outputs": [
    {
     "name": "stdout",
     "output_type": "stream",
     "text": [
      "\n",
      "Summary\n",
      "Index(['Name', 'Age', 'Gender', 'Admission Test Score',\n",
      "       'High School Percentage', 'City', 'Admission Status'],\n",
      "      dtype='object')\n"
     ]
    }
   ],
   "source": [
    "print(\"\\nSummary\")\n",
    "print(df.columns)"
   ]
  },
  {
   "cell_type": "code",
   "execution_count": 23,
   "metadata": {},
   "outputs": [
    {
     "name": "stdout",
     "output_type": "stream",
     "text": [
      "--------------------------------------------------------------\n",
      "\n",
      "Summary\n",
      "Name                      10\n",
      "Age                       10\n",
      "Gender                    10\n",
      "Admission Test Score      11\n",
      "High School Percentage    11\n",
      "City                      10\n",
      "Admission Status          10\n",
      "dtype: int64\n"
     ]
    }
   ],
   "source": [
    "print(\"--------------------------------------------------------------\")\n",
    "print(\"\\nSummary\")\n",
    "print(df.isnull().sum())\n"
   ]
  },
  {
   "cell_type": "code",
   "execution_count": 24,
   "metadata": {},
   "outputs": [
    {
     "name": "stdout",
     "output_type": "stream",
     "text": [
      "--------------------------------------------------------------\n",
      "\n",
      "Summary\n",
      "Name                       object\n",
      "Age                       float64\n",
      "Gender                     object\n",
      "Admission Test Score      float64\n",
      "High School Percentage    float64\n",
      "City                       object\n",
      "Admission Status           object\n",
      "dtype: object\n"
     ]
    }
   ],
   "source": [
    "print(\"--------------------------------------------------------------\")\n",
    "print(\"\\nSummary\")\n",
    "print(df.dtypes)"
   ]
  },
  {
   "cell_type": "code",
   "execution_count": null,
   "metadata": {},
   "outputs": [],
   "source": []
  }
 ],
 "metadata": {
  "kernelspec": {
   "display_name": "base",
   "language": "python",
   "name": "python3"
  },
  "language_info": {
   "codemirror_mode": {
    "name": "ipython",
    "version": 3
   },
   "file_extension": ".py",
   "mimetype": "text/x-python",
   "name": "python",
   "nbconvert_exporter": "python",
   "pygments_lexer": "ipython3",
   "version": "3.10.8"
  }
 },
 "nbformat": 4,
 "nbformat_minor": 2
}
